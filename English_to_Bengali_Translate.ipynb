{
  "nbformat": 4,
  "nbformat_minor": 0,
  "metadata": {
    "colab": {
      "name": "English_to_Bengali_Translate.ipynb",
      "version": "0.3.2",
      "provenance": [],
      "collapsed_sections": []
    },
    "kernelspec": {
      "name": "python3",
      "display_name": "Python 3"
    },
    "accelerator": "GPU"
  },
  "cells": [
    {
      "metadata": {
        "id": "aW9WqUQZIwph",
        "colab_type": "code",
        "colab": {
          "base_uri": "https://localhost:8080/",
          "height": 51
        },
        "outputId": "2b8239aa-127f-4e80-eca0-28954d5e9f8d"
      },
      "cell_type": "code",
      "source": [
        "# import os\n",
        "# os.environ[\"KERAS_BACKEND\"] = \"theano\"\n",
        "# import keras; import keras.backend\n",
        "# if keras.backend.backend() != 'theano':\n",
        "#     raise BaseException(\"This script uses other backend\")\n",
        "# else:\n",
        "#     keras.backend.set_image_dim_ordering('th')\n",
        "#     print(\"Backend ok\")"
      ],
      "execution_count": 1,
      "outputs": [
        {
          "output_type": "stream",
          "text": [
            "Using Theano backend.\n"
          ],
          "name": "stderr"
        },
        {
          "output_type": "stream",
          "text": [
            "Backend ok\n"
          ],
          "name": "stdout"
        }
      ]
    },
    {
      "metadata": {
        "id": "yJTOk0XdijyN",
        "colab_type": "code",
        "colab": {
          "base_uri": "https://localhost:8080/",
          "height": 85
        },
        "outputId": "5eda6a5b-e715-4040-c9f5-d467e492c62c"
      },
      "cell_type": "code",
      "source": [
        "from __future__ import print_function\n",
        "\n",
        "from keras.models import Model\n",
        "from keras.layers import Input, LSTM, Dense\n",
        "import numpy as np\n",
        "import nltk\n",
        "nltk.download('punkt')"
      ],
      "execution_count": 1,
      "outputs": [
        {
          "output_type": "stream",
          "text": [
            "Using TensorFlow backend.\n"
          ],
          "name": "stderr"
        },
        {
          "output_type": "stream",
          "text": [
            "[nltk_data] Downloading package punkt to /root/nltk_data...\n",
            "[nltk_data]   Unzipping tokenizers/punkt.zip.\n"
          ],
          "name": "stdout"
        },
        {
          "output_type": "execute_result",
          "data": {
            "text/plain": [
              "True"
            ]
          },
          "metadata": {
            "tags": []
          },
          "execution_count": 1
        }
      ]
    },
    {
      "metadata": {
        "id": "AXCOQPA5i4xF",
        "colab_type": "code",
        "colab": {
          "base_uri": "https://localhost:8080/",
          "height": 1074
        },
        "outputId": "ddfc8775-542d-4e4c-8823-4c386d693d0a"
      },
      "cell_type": "code",
      "source": [
        "!apt-get install -y -qq software-properties-common python-software-properties module-init-tools\n",
        "#!add-apt-repository -y ppa:alessandro-strada/ppa 2>&1 > /dev/null\n",
        "#!apt-get update -qq 2>&1 > /dev/null\n",
        "#!apt-get -y install -qq google-drive-ocamlfuse fuse\n",
        "!wget https://launchpad.net/~alessandro-strada/+archive/ubuntu/google-drive-ocamlfuse-beta/+build/15331130/+files/google-drive-ocamlfuse_0.7.0-0ubuntu1_amd64.deb\n",
        "!dpkg -i google-drive-ocamlfuse_0.7.0-0ubuntu1_amd64.deb\n",
        "!apt-get install -f\n",
        "!apt-get -y install -qq fuse\n",
        "from google.colab import auth\n",
        "auth.authenticate_user()\n",
        "from oauth2client.client import GoogleCredentials\n",
        "creds = GoogleCredentials.get_application_default()\n",
        "import getpass\n",
        "!google-drive-ocamlfuse -headless -id={creds.client_id} -secret={creds.client_secret} < /dev/null 2>&1 | grep URL\n",
        "vcode = getpass.getpass()\n",
        "!echo {vcode} | google-drive-ocamlfuse -headless -id={creds.client_id} -secret={creds.client_secret}"
      ],
      "execution_count": 2,
      "outputs": [
        {
          "output_type": "stream",
          "text": [
            "E: Package 'python-software-properties' has no installation candidate\n",
            "--2018-10-15 15:12:01--  https://launchpad.net/~alessandro-strada/+archive/ubuntu/google-drive-ocamlfuse-beta/+build/15331130/+files/google-drive-ocamlfuse_0.7.0-0ubuntu1_amd64.deb\n",
            "Resolving launchpad.net (launchpad.net)... 91.189.89.223, 91.189.89.222\n",
            "Connecting to launchpad.net (launchpad.net)|91.189.89.223|:443... connected.\n",
            "HTTP request sent, awaiting response... 303 See Other\n",
            "Location: https://launchpadlibrarian.net/386846978/google-drive-ocamlfuse_0.7.0-0ubuntu1_amd64.deb [following]\n",
            "--2018-10-15 15:12:02--  https://launchpadlibrarian.net/386846978/google-drive-ocamlfuse_0.7.0-0ubuntu1_amd64.deb\n",
            "Resolving launchpadlibrarian.net (launchpadlibrarian.net)... 91.189.89.228, 91.189.89.229\n",
            "Connecting to launchpadlibrarian.net (launchpadlibrarian.net)|91.189.89.228|:443... connected.\n",
            "HTTP request sent, awaiting response... 200 OK\n",
            "Length: 1232624 (1.2M) [application/x-debian-package]\n",
            "Saving to: ‘google-drive-ocamlfuse_0.7.0-0ubuntu1_amd64.deb’\n",
            "\n",
            "google-drive-ocamlf 100%[===================>]   1.17M  1.37MB/s    in 0.9s    \n",
            "\n",
            "2018-10-15 15:12:05 (1.37 MB/s) - ‘google-drive-ocamlfuse_0.7.0-0ubuntu1_amd64.deb’ saved [1232624/1232624]\n",
            "\n",
            "Selecting previously unselected package google-drive-ocamlfuse.\n",
            "(Reading database ... 21065 files and directories currently installed.)\n",
            "Preparing to unpack google-drive-ocamlfuse_0.7.0-0ubuntu1_amd64.deb ...\n",
            "Unpacking google-drive-ocamlfuse (0.7.0-0ubuntu1) ...\n",
            "\u001b[1mdpkg:\u001b[0m dependency problems prevent configuration of google-drive-ocamlfuse:\n",
            " google-drive-ocamlfuse depends on libfuse2 (>= 2.8); however:\n",
            "  Package libfuse2 is not installed.\n",
            "\n",
            "\u001b[1mdpkg:\u001b[0m error processing package google-drive-ocamlfuse (--install):\n",
            " dependency problems - leaving unconfigured\n",
            "Errors were encountered while processing:\n",
            " google-drive-ocamlfuse\n",
            "Reading package lists... Done\n",
            "Building dependency tree       \n",
            "Reading state information... Done\n",
            "Correcting dependencies... Done\n",
            "The following additional packages will be installed:\n",
            "  libfuse2\n",
            "Suggested packages:\n",
            "  fuse\n",
            "The following NEW packages will be installed:\n",
            "  libfuse2\n",
            "0 upgraded, 1 newly installed, 0 to remove and 4 not upgraded.\n",
            "1 not fully installed or removed.\n",
            "Need to get 80.9 kB of archives.\n",
            "After this operation, 313 kB of additional disk space will be used.\n",
            "Get:1 http://archive.ubuntu.com/ubuntu bionic/main amd64 libfuse2 amd64 2.9.7-1ubuntu1 [80.9 kB]\n",
            "Fetched 80.9 kB in 1s (116 kB/s)\n",
            "Selecting previously unselected package libfuse2:amd64.\n",
            "(Reading database ... 21070 files and directories currently installed.)\n",
            "Preparing to unpack .../libfuse2_2.9.7-1ubuntu1_amd64.deb ...\n",
            "Unpacking libfuse2:amd64 (2.9.7-1ubuntu1) ...\n",
            "Setting up libfuse2:amd64 (2.9.7-1ubuntu1) ...\n",
            "Processing triggers for libc-bin (2.27-3ubuntu1) ...\n",
            "Setting up google-drive-ocamlfuse (0.7.0-0ubuntu1) ...\n",
            "Selecting previously unselected package fuse.\n",
            "(Reading database ... 21082 files and directories currently installed.)\n",
            "Preparing to unpack .../fuse_2.9.7-1ubuntu1_amd64.deb ...\n",
            "Unpacking fuse (2.9.7-1ubuntu1) ...\n",
            "Setting up fuse (2.9.7-1ubuntu1) ...\n",
            "Please, open the following URL in a web browser: https://accounts.google.com/o/oauth2/auth?client_id=32555940559.apps.googleusercontent.com&redirect_uri=urn%3Aietf%3Awg%3Aoauth%3A2.0%3Aoob&scope=https%3A%2F%2Fwww.googleapis.com%2Fauth%2Fdrive&response_type=code&access_type=offline&approval_prompt=force\n",
            "··········\n",
            "Please, open the following URL in a web browser: https://accounts.google.com/o/oauth2/auth?client_id=32555940559.apps.googleusercontent.com&redirect_uri=urn%3Aietf%3Awg%3Aoauth%3A2.0%3Aoob&scope=https%3A%2F%2Fwww.googleapis.com%2Fauth%2Fdrive&response_type=code&access_type=offline&approval_prompt=force\n",
            "Please enter the verification code: Access token retrieved correctly.\n"
          ],
          "name": "stdout"
        }
      ]
    },
    {
      "metadata": {
        "id": "Wt73O31DjPTP",
        "colab_type": "code",
        "colab": {}
      },
      "cell_type": "code",
      "source": [
        "!mkdir -p drive\n",
        "!google-drive-ocamlfuse drive"
      ],
      "execution_count": 0,
      "outputs": []
    },
    {
      "metadata": {
        "id": "UtGc9p9ejand",
        "colab_type": "code",
        "colab": {
          "base_uri": "https://localhost:8080/",
          "height": 85
        },
        "outputId": "84901025-06d1-4f60-b85c-0f1cb9a3a0ff"
      },
      "cell_type": "code",
      "source": [
        "!ls drive/ml_apps"
      ],
      "execution_count": 4,
      "outputs": [
        {
          "output_type": "stream",
          "text": [
            "ben.odt\t\t     embeddings_index.pickle  LSTM1500.h5     texts.txt\n",
            "ben.txt\t\t     fra.txt\t\t      LSTM2000.h5\n",
            "conversation_2.json  LSTM0500.h5\t      s2s_bengali.h5\n",
            "conversation.json    LSTM1000.h5\t      s2s.h5\n"
          ],
          "name": "stdout"
        }
      ]
    },
    {
      "metadata": {
        "id": "771gtCpvjJXz",
        "colab_type": "code",
        "colab": {}
      },
      "cell_type": "code",
      "source": [
        "import pickle\n",
        "glove_embeddings = pickle.load( open( \"drive/ml_apps/embeddings_index.pickle\", \"rb\" ) )"
      ],
      "execution_count": 0,
      "outputs": []
    },
    {
      "metadata": {
        "id": "iDh-iGMAjKwy",
        "colab_type": "code",
        "colab": {
          "base_uri": "https://localhost:8080/",
          "height": 34
        },
        "outputId": "0b594c31-6c97-4117-f858-0f54fedb4b01"
      },
      "cell_type": "code",
      "source": [
        "len(glove_embeddings['horse'])"
      ],
      "execution_count": 6,
      "outputs": [
        {
          "output_type": "execute_result",
          "data": {
            "text/plain": [
              "100"
            ]
          },
          "metadata": {
            "tags": []
          },
          "execution_count": 6
        }
      ]
    },
    {
      "metadata": {
        "id": "H-JA9kexjRPa",
        "colab_type": "code",
        "colab": {
          "base_uri": "https://localhost:8080/",
          "height": 34
        },
        "outputId": "302f0f50-e1da-45ce-c157-bc290e57617d"
      },
      "cell_type": "code",
      "source": [
        "len(glove_embeddings)"
      ],
      "execution_count": 7,
      "outputs": [
        {
          "output_type": "execute_result",
          "data": {
            "text/plain": [
              "400000"
            ]
          },
          "metadata": {
            "tags": []
          },
          "execution_count": 7
        }
      ]
    },
    {
      "metadata": {
        "id": "KE57IKbIjf19",
        "colab_type": "code",
        "colab": {}
      },
      "cell_type": "code",
      "source": [
        "batch_size = 64  # Batch size for training.\n",
        "epochs = 100  # Number of epochs to train for.\n",
        "latent_dim = 100  # Latent dimensionality of the encoding space.\n",
        "num_samples = 10000  # Number of samples to train on.\n",
        "max_words = 10000  # Number of words in the train set to be used\n",
        "# Path to the data txt file on disk.\n",
        "data_path = 'drive/ml_apps/ben.txt'"
      ],
      "execution_count": 0,
      "outputs": []
    },
    {
      "metadata": {
        "id": "uNk8u1tYjsci",
        "colab_type": "code",
        "colab": {}
      },
      "cell_type": "code",
      "source": [
        "# Vectorize the data.\n",
        "input_texts = []\n",
        "target_texts = []\n",
        "\n",
        "with open(data_path, 'r', encoding='utf-8') as f:\n",
        "    lines = f.read().split('\\n')\n",
        "for line in lines[: min(num_samples, len(lines) - 1)]:\n",
        "    input_text, target_text = line.split('\\t')\n",
        "    # We use \"<start>\" as the \"start sequence\" word\n",
        "    # for the targets, and \"<EOS>\" as \"end sequence\" word.\n",
        "    target_text = ' START_ ' + target_text + ' _EOS '\n",
        "    input_texts.append(input_text)\n",
        "    target_texts.append(target_text)\n",
        "    \n"
      ],
      "execution_count": 0,
      "outputs": []
    },
    {
      "metadata": {
        "id": "E5YpHhdEP1v7",
        "colab_type": "code",
        "colab": {}
      },
      "cell_type": "code",
      "source": [
        "tok_in=[]\n",
        "tok_target=[]\n",
        "\n",
        "for i in range(len(input_texts)):\n",
        "  tok_in.append(nltk.word_tokenize(input_texts[i].lower()))\n",
        "for i in range(len(target_texts)):\n",
        "  tok_target.append(nltk.word_tokenize(target_texts[i].lower()))"
      ],
      "execution_count": 0,
      "outputs": []
    },
    {
      "metadata": {
        "id": "gXjuoO3xFGkb",
        "colab_type": "code",
        "colab": {
          "base_uri": "https://localhost:8080/",
          "height": 34
        },
        "outputId": "45474574-999e-459f-805c-6ef517b6b8ed"
      },
      "cell_type": "code",
      "source": [
        "tok_in[202]"
      ],
      "execution_count": 11,
      "outputs": [
        {
          "output_type": "execute_result",
          "data": {
            "text/plain": [
              "['leave', 'us', '.']"
            ]
          },
          "metadata": {
            "tags": []
          },
          "execution_count": 11
        }
      ]
    },
    {
      "metadata": {
        "id": "f4x0fxsiQzxd",
        "colab_type": "code",
        "colab": {
          "base_uri": "https://localhost:8080/",
          "height": 34
        },
        "outputId": "7b3a98f5-89f8-4cc4-c4c0-b5a27720cc35"
      },
      "cell_type": "code",
      "source": [
        "tok_target[201]"
      ],
      "execution_count": 12,
      "outputs": [
        {
          "output_type": "execute_result",
          "data": {
            "text/plain": [
              "['start_', 'আমাকে', 'চেড়ে', 'দে।', '_eos']"
            ]
          },
          "metadata": {
            "tags": []
          },
          "execution_count": 12
        }
      ]
    },
    {
      "metadata": {
        "id": "-rV635m8RZYV",
        "colab_type": "code",
        "colab": {}
      },
      "cell_type": "code",
      "source": [
        "input_words = set()\n",
        "target_words = set()\n",
        "for i in range(len(tok_in)):\n",
        "  for word in tok_in[i]:\n",
        "#     print(word)\n",
        "    if word not in input_words:\n",
        "      input_words.add(word)\n",
        "for i in range(len(tok_target)):\n",
        "  for word in tok_target[i]:\n",
        "#     print(word)\n",
        "    if word not in target_words:\n",
        "      target_words.add(word)"
      ],
      "execution_count": 0,
      "outputs": []
    },
    {
      "metadata": {
        "id": "-aEtONVYTpyF",
        "colab_type": "code",
        "colab": {
          "base_uri": "https://localhost:8080/",
          "height": 34
        },
        "outputId": "f70385ab-04e5-41ee-aa08-c86fa867c9a3"
      },
      "cell_type": "code",
      "source": [
        "if \"go\" in input_words:\n",
        "  print('found')"
      ],
      "execution_count": 14,
      "outputs": [
        {
          "output_type": "stream",
          "text": [
            "found\n"
          ],
          "name": "stdout"
        }
      ]
    },
    {
      "metadata": {
        "id": "OWEQA5wBj0iK",
        "colab_type": "code",
        "colab": {}
      },
      "cell_type": "code",
      "source": [
        "input_words = sorted(list(input_words))\n",
        "target_words = sorted(list(target_words))\n",
        "num_encoder_tokens = len(input_words)\n",
        "num_decoder_tokens = len(target_words)\n",
        "max_encoder_seq_length = max([len(tok_in[i]) for i in range(len(tok_in))])\n",
        "max_decoder_seq_length = max([len(tok_target[i]) for i in range(len(tok_target))])"
      ],
      "execution_count": 0,
      "outputs": []
    },
    {
      "metadata": {
        "id": "L1qzEcOHj7F4",
        "colab_type": "code",
        "colab": {
          "base_uri": "https://localhost:8080/",
          "height": 102
        },
        "outputId": "c0a0252a-52a6-4525-a4eb-0902080ad9ea"
      },
      "cell_type": "code",
      "source": [
        "print('Number of samples:', len(input_texts))\n",
        "print('Number of unique input/encoder tokens:', num_encoder_tokens)\n",
        "print('Number of unique output/decoder tokens:', num_decoder_tokens)\n",
        "print('Max sequence length for inputs/encoder:', max_encoder_seq_length)\n",
        "print('Max sequence length for outputs/decoder:', max_decoder_seq_length)"
      ],
      "execution_count": 16,
      "outputs": [
        {
          "output_type": "stream",
          "text": [
            "Number of samples: 4379\n",
            "Number of unique input/encoder tokens: 1847\n",
            "Number of unique output/decoder tokens: 3345\n",
            "Max sequence length for inputs/encoder: 22\n",
            "Max sequence length for outputs/decoder: 22\n"
          ],
          "name": "stdout"
        }
      ]
    },
    {
      "metadata": {
        "id": "SQorDpxXlRUa",
        "colab_type": "code",
        "colab": {}
      },
      "cell_type": "code",
      "source": [
        "input_token_index = dict(\n",
        "    [(char, i) for i, char in enumerate(input_words)])\n",
        "target_token_index = dict(\n",
        "    [(char, i) for i, char in enumerate(target_words)])"
      ],
      "execution_count": 0,
      "outputs": []
    },
    {
      "metadata": {
        "id": "v7G9PO1SldsB",
        "colab_type": "code",
        "colab": {
          "base_uri": "https://localhost:8080/",
          "height": 34
        },
        "outputId": "1384d7ad-dbb7-4966-8050-2725e56ffafe"
      },
      "cell_type": "code",
      "source": [
        "input_token_index[input_words[5]]"
      ],
      "execution_count": 18,
      "outputs": [
        {
          "output_type": "execute_result",
          "data": {
            "text/plain": [
              "5"
            ]
          },
          "metadata": {
            "tags": []
          },
          "execution_count": 18
        }
      ]
    },
    {
      "metadata": {
        "id": "UnbhWhm8kPnd",
        "colab_type": "code",
        "colab": {}
      },
      "cell_type": "code",
      "source": [
        "#Generate embedding matrix\n",
        "embedding_dim = 100\n",
        "embedding_matrix = np.zeros((max_words,embedding_dim))\n",
        "\n",
        "for word, i in input_token_index.items():\n",
        "  embedding_vector = glove_embeddings.get(word)\n",
        "  if embedding_vector is not None:\n",
        "    embedding_matrix[i] = embedding_vector\n"
      ],
      "execution_count": 0,
      "outputs": []
    },
    {
      "metadata": {
        "id": "MnRvlP7_lFgr",
        "colab_type": "code",
        "colab": {
          "base_uri": "https://localhost:8080/",
          "height": 34
        },
        "outputId": "1794be02-ab48-478e-c3a4-bef12570fc42"
      },
      "cell_type": "code",
      "source": [
        "embedding_matrix.shape"
      ],
      "execution_count": 20,
      "outputs": [
        {
          "output_type": "execute_result",
          "data": {
            "text/plain": [
              "(10000, 100)"
            ]
          },
          "metadata": {
            "tags": []
          },
          "execution_count": 20
        }
      ]
    },
    {
      "metadata": {
        "id": "GHOGjuF7lf-B",
        "colab_type": "code",
        "colab": {}
      },
      "cell_type": "code",
      "source": [
        "encoder_input_data = np.zeros(\n",
        "    (len(tok_in), max_encoder_seq_length),\n",
        "    dtype='float32')\n",
        "decoder_input_data = np.zeros(\n",
        "    (len(tok_target), max_decoder_seq_length),\n",
        "    dtype='float32')\n",
        "decoder_target_data = np.zeros(\n",
        "    (len(tok_target),  max_decoder_seq_length, num_decoder_tokens),\n",
        "    dtype='float32')"
      ],
      "execution_count": 0,
      "outputs": []
    },
    {
      "metadata": {
        "id": "Lfp8a7dJmCOT",
        "colab_type": "code",
        "colab": {
          "base_uri": "https://localhost:8080/",
          "height": 51
        },
        "outputId": "5f1ac517-ed9d-4006-f185-d3d0352e1221"
      },
      "cell_type": "code",
      "source": [
        "encoder_input_data[201]"
      ],
      "execution_count": 23,
      "outputs": [
        {
          "output_type": "execute_result",
          "data": {
            "text/plain": [
              "array([0., 0., 0., 0., 0., 0., 0., 0., 0., 0., 0., 0., 0., 0., 0., 0., 0.,\n",
              "       0., 0., 0., 0., 0.], dtype=float32)"
            ]
          },
          "metadata": {
            "tags": []
          },
          "execution_count": 23
        }
      ]
    },
    {
      "metadata": {
        "id": "QC6f-ZXQVjIV",
        "colab_type": "code",
        "colab": {
          "base_uri": "https://localhost:8080/",
          "height": 136
        },
        "outputId": "ed155049-aaa0-42d0-ab7f-afe3029b6d71"
      },
      "cell_type": "code",
      "source": [
        "np.fliplr(encoder_input_data)"
      ],
      "execution_count": 24,
      "outputs": [
        {
          "output_type": "execute_result",
          "data": {
            "text/plain": [
              "array([[0., 0., 0., ..., 0., 0., 0.],\n",
              "       [0., 0., 0., ..., 0., 0., 0.],\n",
              "       [0., 0., 0., ..., 0., 0., 0.],\n",
              "       ...,\n",
              "       [0., 0., 0., ..., 0., 0., 0.],\n",
              "       [0., 0., 0., ..., 0., 0., 0.],\n",
              "       [0., 0., 0., ..., 0., 0., 0.]], dtype=float32)"
            ]
          },
          "metadata": {
            "tags": []
          },
          "execution_count": 24
        }
      ]
    },
    {
      "metadata": {
        "id": "BhqmEJPLmFf6",
        "colab_type": "code",
        "colab": {
          "base_uri": "https://localhost:8080/",
          "height": 34
        },
        "outputId": "64f417b2-af4a-44c4-f2b1-3f150eed2d75"
      },
      "cell_type": "code",
      "source": [
        "decoder_target_data.shape"
      ],
      "execution_count": 25,
      "outputs": [
        {
          "output_type": "execute_result",
          "data": {
            "text/plain": [
              "(4379, 22, 3345)"
            ]
          },
          "metadata": {
            "tags": []
          },
          "execution_count": 25
        }
      ]
    },
    {
      "metadata": {
        "id": "c1ee087VmJGa",
        "colab_type": "code",
        "colab": {}
      },
      "cell_type": "code",
      "source": [
        "#Index encoding of encoder_inpu, decoder_input and decoder_target\n",
        "for i in range(len(tok_in)):\n",
        "  for j in range(len(tok_in[i])):\n",
        "#     print(j)\n",
        "    encoder_input_data[i,j] = input_token_index[tok_in[i][j]]\n",
        "    \n",
        "for i in range(len(tok_target)):\n",
        "  for t, word in enumerate(tok_target[i]):\n",
        "    decoder_input_data[i,t] = target_token_index[word]\n",
        "    if t > 0:\n",
        "      # decoder_target_data will be ahead by one timestep\n",
        "      # and will not include the start character.\n",
        "      decoder_target_data[i, t - 1, target_token_index[word]] = 1."
      ],
      "execution_count": 0,
      "outputs": []
    },
    {
      "metadata": {
        "id": "2jg28rS5mXKQ",
        "colab_type": "code",
        "colab": {
          "base_uri": "https://localhost:8080/",
          "height": 68
        },
        "outputId": "a9110b44-f0ab-484f-9dc8-75476eec9927"
      },
      "cell_type": "code",
      "source": [
        "encoder_input_data[201]"
      ],
      "execution_count": 27,
      "outputs": [
        {
          "output_type": "execute_result",
          "data": {
            "text/plain": [
              "array([905., 991.,  12.,   0.,   0.,   0.,   0.,   0.,   0.,   0.,   0.,\n",
              "         0.,   0.,   0.,   0.,   0.,   0.,   0.,   0.,   0.,   0.,   0.],\n",
              "      dtype=float32)"
            ]
          },
          "metadata": {
            "tags": []
          },
          "execution_count": 27
        }
      ]
    },
    {
      "metadata": {
        "id": "gnyhUYLmWmpu",
        "colab_type": "code",
        "colab": {}
      },
      "cell_type": "code",
      "source": [
        "encoder_input_data = np.fliplr(encoder_input_data)"
      ],
      "execution_count": 0,
      "outputs": []
    },
    {
      "metadata": {
        "id": "m-Y6qYY1WteZ",
        "colab_type": "code",
        "colab": {
          "base_uri": "https://localhost:8080/",
          "height": 68
        },
        "outputId": "c3388200-af93-497a-e1bb-844c924e0d53"
      },
      "cell_type": "code",
      "source": [
        "encoder_input_data[201]"
      ],
      "execution_count": 29,
      "outputs": [
        {
          "output_type": "execute_result",
          "data": {
            "text/plain": [
              "array([  0.,   0.,   0.,   0.,   0.,   0.,   0.,   0.,   0.,   0.,   0.,\n",
              "         0.,   0.,   0.,   0.,   0.,   0.,   0.,   0.,  12., 991., 905.],\n",
              "      dtype=float32)"
            ]
          },
          "metadata": {
            "tags": []
          },
          "execution_count": 29
        }
      ]
    },
    {
      "metadata": {
        "id": "20p9RVOVBH9A",
        "colab_type": "code",
        "colab": {
          "base_uri": "https://localhost:8080/",
          "height": 34
        },
        "outputId": "54cbff50-6a0d-4397-bdd1-b97217571ec7"
      },
      "cell_type": "code",
      "source": [
        "encoder_input_data.shape"
      ],
      "execution_count": 31,
      "outputs": [
        {
          "output_type": "execute_result",
          "data": {
            "text/plain": [
              "(4379, 22)"
            ]
          },
          "metadata": {
            "tags": []
          },
          "execution_count": 31
        }
      ]
    },
    {
      "metadata": {
        "id": "gmX86ChZwZ-k",
        "colab_type": "code",
        "colab": {
          "base_uri": "https://localhost:8080/",
          "height": 34
        },
        "outputId": "f16d3c7b-7982-4bc9-c461-c0194900e401"
      },
      "cell_type": "code",
      "source": [
        "decoder_input_data.shape"
      ],
      "execution_count": 32,
      "outputs": [
        {
          "output_type": "execute_result",
          "data": {
            "text/plain": [
              "(4379, 22)"
            ]
          },
          "metadata": {
            "tags": []
          },
          "execution_count": 32
        }
      ]
    },
    {
      "metadata": {
        "id": "25JKjxKBwdbM",
        "colab_type": "code",
        "colab": {
          "base_uri": "https://localhost:8080/",
          "height": 34
        },
        "outputId": "0681cf43-e792-4289-9c4d-b4a7d2b9497f"
      },
      "cell_type": "code",
      "source": [
        "decoder_target_data.shape"
      ],
      "execution_count": 33,
      "outputs": [
        {
          "output_type": "execute_result",
          "data": {
            "text/plain": [
              "(4379, 22, 3345)"
            ]
          },
          "metadata": {
            "tags": []
          },
          "execution_count": 33
        }
      ]
    },
    {
      "metadata": {
        "id": "eHj9xrNWmjru",
        "colab_type": "code",
        "colab": {}
      },
      "cell_type": "code",
      "source": [
        "from keras.layers import Embedding"
      ],
      "execution_count": 0,
      "outputs": []
    },
    {
      "metadata": {
        "id": "XEd-N4rEqMhH",
        "colab_type": "code",
        "colab": {}
      },
      "cell_type": "code",
      "source": [
        "# Reverse-lookup token index to decode sequences back to\n",
        "# something readable.\n",
        "reverse_input_word_index = dict(\n",
        "    (i, word) for word, i in input_token_index.items())\n",
        "reverse_target_word_index = dict(\n",
        "    (i, word) for word, i in target_token_index.items())"
      ],
      "execution_count": 0,
      "outputs": []
    },
    {
      "metadata": {
        "id": "zc5DfHdWqO-P",
        "colab_type": "code",
        "colab": {
          "base_uri": "https://localhost:8080/",
          "height": 34
        },
        "outputId": "d97d171a-3bc4-4e46-f80a-f303fa2b8853"
      },
      "cell_type": "code",
      "source": [
        "reverse_target_word_index[442]"
      ],
      "execution_count": 36,
      "outputs": [
        {
          "output_type": "execute_result",
          "data": {
            "text/plain": [
              "'এসেছে।'"
            ]
          },
          "metadata": {
            "tags": []
          },
          "execution_count": 36
        }
      ]
    },
    {
      "metadata": {
        "id": "JCBVXI16qYMe",
        "colab_type": "code",
        "colab": {
          "base_uri": "https://localhost:8080/",
          "height": 34
        },
        "outputId": "d7c07e54-a0a4-4f69-fae7-381b07a7e4f0"
      },
      "cell_type": "code",
      "source": [
        "reverse_input_word_index[np.argmax(decoder_target_data[9,3,:])]"
      ],
      "execution_count": 37,
      "outputs": [
        {
          "output_type": "execute_result",
          "data": {
            "text/plain": [
              "'!'"
            ]
          },
          "metadata": {
            "tags": []
          },
          "execution_count": 37
        }
      ]
    },
    {
      "metadata": {
        "id": "vL5NIB4tndCN",
        "colab_type": "code",
        "colab": {}
      },
      "cell_type": "code",
      "source": [
        "# Define an input sequence and process it.\n",
        "encoder_inputs = Input(shape=(None,))\n",
        "encoder_embedding = Embedding(max_words, latent_dim, weights=[embedding_matrix], trainable=False, mask_zero=True)\n",
        "#encoder_embedding = Embedding(num_encoder_tokens, latent_dim, weights=[embedding_matrix], trainable=False, mask_zero=True)\n",
        "embedding_output = encoder_embedding(encoder_inputs)\n",
        "#encoder1 = LSTM(latent_dim, return_state=True, return_sequences=True)\n",
        "#encoder_outputs_1,state_h_1,state_c_1 = encoder1(embedding_output)\n",
        "encoder = LSTM(latent_dim, return_state=True) #orig\n",
        "encoder_outputs, state_h, state_c = encoder(embedding_output) #orig\n",
        "# We discard `encoder_outputs` and only keep the states.\n",
        "encoder_states = [state_h, state_c]\n",
        "#encoder_states_1 = [state_h_1, state_c_1]"
      ],
      "execution_count": 0,
      "outputs": []
    },
    {
      "metadata": {
        "id": "LAfYonMKoFve",
        "colab_type": "code",
        "colab": {}
      },
      "cell_type": "code",
      "source": [
        "# Set up the decoder, using `encoder_states` as initial state.\n",
        "decoder_inputs = Input(shape=(None,))\n",
        "\n",
        "decoder_embedding = Embedding(num_decoder_tokens, latent_dim)\n",
        "dec_embed_out = decoder_embedding(decoder_inputs)\n",
        "# # We set up our decoder to return full output sequences,\n",
        "# # and to return internal states as well. We don't use the\n",
        "# # return states in the training model, but we will use them in inference.\n",
        "#decoder_lstm1 = LSTM(latent_dim, return_sequences=True, return_state=True)\n",
        "\n",
        "#decoder_outputs_1, _, _ = decoder_lstm1(decoder_inputs,\n",
        "#                                    initial_state=encoder_states_1)\n",
        "decoder_lstm = LSTM(latent_dim, return_sequences=True, return_state=True)\n",
        "\n",
        "decoder_outputs, _, _ = decoder_lstm(dec_embed_out, initial_state=encoder_states)\n",
        "\n",
        "decoder_dense = Dense(num_decoder_tokens, activation='softmax')\n",
        "decoder_dense_outputs = decoder_dense(decoder_outputs)\n",
        "\n",
        "#x = Embedding(num_decoder_tokens, latent_dim)(decoder_inputs)\n",
        "#x = LSTM(latent_dim, return_sequences=True)(x, initial_state=encoder_states)\n",
        "#decoder_outputs = Dense(num_decoder_tokens, activation='softmax')(x)\n",
        "\n"
      ],
      "execution_count": 0,
      "outputs": []
    },
    {
      "metadata": {
        "id": "rLP0GmxkoRi9",
        "colab_type": "code",
        "colab": {}
      },
      "cell_type": "code",
      "source": [
        "# Define the model that will turn\n",
        "# `encoder_input_data` & `decoder_input_data` into `decoder_target_data`\n",
        "model = Model([encoder_inputs, decoder_inputs], decoder_dense_outputs)"
      ],
      "execution_count": 0,
      "outputs": []
    },
    {
      "metadata": {
        "id": "KrRlKtjyoX3l",
        "colab_type": "code",
        "colab": {
          "base_uri": "https://localhost:8080/",
          "height": 408
        },
        "outputId": "1110ca21-f6de-43ab-a7ac-7a673821d717"
      },
      "cell_type": "code",
      "source": [
        "model.summary()"
      ],
      "execution_count": 42,
      "outputs": [
        {
          "output_type": "stream",
          "text": [
            "__________________________________________________________________________________________________\n",
            "Layer (type)                    Output Shape         Param #     Connected to                     \n",
            "==================================================================================================\n",
            "input_2 (InputLayer)            (None, None)         0                                            \n",
            "__________________________________________________________________________________________________\n",
            "input_3 (InputLayer)            (None, None)         0                                            \n",
            "__________________________________________________________________________________________________\n",
            "embedding_2 (Embedding)         (None, None, 100)    1000000     input_2[0][0]                    \n",
            "__________________________________________________________________________________________________\n",
            "embedding_3 (Embedding)         (None, None, 100)    334500      input_3[0][0]                    \n",
            "__________________________________________________________________________________________________\n",
            "lstm_1 (LSTM)                   [(None, 100), (None, 80400       embedding_2[0][0]                \n",
            "__________________________________________________________________________________________________\n",
            "lstm_2 (LSTM)                   [(None, None, 100),  80400       embedding_3[0][0]                \n",
            "                                                                 lstm_1[0][1]                     \n",
            "                                                                 lstm_1[0][2]                     \n",
            "__________________________________________________________________________________________________\n",
            "dense_1 (Dense)                 (None, None, 3345)   337845      lstm_2[0][0]                     \n",
            "==================================================================================================\n",
            "Total params: 1,833,145\n",
            "Trainable params: 833,145\n",
            "Non-trainable params: 1,000,000\n",
            "__________________________________________________________________________________________________\n"
          ],
          "name": "stdout"
        }
      ]
    },
    {
      "metadata": {
        "id": "nxsQy5Eho4DV",
        "colab_type": "code",
        "colab": {
          "base_uri": "https://localhost:8080/",
          "height": 68
        },
        "outputId": "2a45a819-e11f-407b-e7f2-c45f9aae852e"
      },
      "cell_type": "code",
      "source": [
        "print(encoder_input_data.shape)\n",
        "print(decoder_input_data.shape)\n",
        "print(decoder_target_data.shape)\n",
        "# print(oh_target_data.shape)"
      ],
      "execution_count": 43,
      "outputs": [
        {
          "output_type": "stream",
          "text": [
            "(4379, 22)\n",
            "(4379, 22)\n",
            "(4379, 22, 3345)\n"
          ],
          "name": "stdout"
        }
      ]
    },
    {
      "metadata": {
        "id": "ExrYkEP9n8FH",
        "colab_type": "code",
        "colab": {
          "base_uri": "https://localhost:8080/",
          "height": 34
        },
        "outputId": "24cb12fa-07d2-4ea0-d304-9bdc48234b3f"
      },
      "cell_type": "code",
      "source": [
        "model.layers[6].input_shape\n",
        "\n"
      ],
      "execution_count": 44,
      "outputs": [
        {
          "output_type": "execute_result",
          "data": {
            "text/plain": [
              "(None, None, 100)"
            ]
          },
          "metadata": {
            "tags": []
          },
          "execution_count": 44
        }
      ]
    },
    {
      "metadata": {
        "id": "hnZuz4iSnyfe",
        "colab_type": "code",
        "colab": {}
      },
      "cell_type": "code",
      "source": [
        "# model.layers[1].set_weights([embedding_matrix])\n",
        "# model.layers[1].trainable = False"
      ],
      "execution_count": 0,
      "outputs": []
    },
    {
      "metadata": {
        "id": "KJCPv7JzoZgy",
        "colab_type": "code",
        "colab": {
          "base_uri": "https://localhost:8080/",
          "height": 3434
        },
        "outputId": "8a6ab745-eff0-4850-c980-6ed75d9c71cb"
      },
      "cell_type": "code",
      "source": [
        "#from keras import losses\n",
        "# Run training\n",
        "# Note that `decoder_target_data` needs to be one-hot encoded,\n",
        "# rather than sequences of integers like `decoder_input_data`!\n",
        "model.compile(optimizer='adam', loss='categorical_crossentropy',metrics=['acc'])\n",
        "history = model.fit([encoder_input_data, decoder_input_data], decoder_target_data,\n",
        "          batch_size=batch_size,\n",
        "          epochs=100,\n",
        "          validation_split=0.2)\n",
        "                   "
      ],
      "execution_count": 46,
      "outputs": [
        {
          "output_type": "stream",
          "text": [
            "Train on 3503 samples, validate on 876 samples\n",
            "Epoch 1/100\n",
            "3503/3503 [==============================] - 9s 3ms/step - loss: 1.5192 - acc: 0.0430 - val_loss: 2.4969 - val_acc: 0.0455\n",
            "Epoch 2/100\n",
            "3503/3503 [==============================] - 8s 2ms/step - loss: 1.2387 - acc: 0.0455 - val_loss: 2.4808 - val_acc: 0.0540\n",
            "Epoch 3/100\n",
            "3503/3503 [==============================] - 8s 2ms/step - loss: 1.2090 - acc: 0.0546 - val_loss: 2.4949 - val_acc: 0.0548\n",
            "Epoch 4/100\n",
            "3503/3503 [==============================] - 8s 2ms/step - loss: 1.1871 - acc: 0.0548 - val_loss: 2.4962 - val_acc: 0.0550\n",
            "Epoch 5/100\n",
            "3503/3503 [==============================] - 8s 2ms/step - loss: 1.1631 - acc: 0.0548 - val_loss: 2.4646 - val_acc: 0.0549\n",
            "Epoch 6/100\n",
            "3503/3503 [==============================] - 8s 2ms/step - loss: 1.1302 - acc: 0.0561 - val_loss: 2.4171 - val_acc: 0.0580\n",
            "Epoch 7/100\n",
            "3503/3503 [==============================] - 8s 2ms/step - loss: 1.0856 - acc: 0.0627 - val_loss: 2.3437 - val_acc: 0.0685\n",
            "Epoch 8/100\n",
            "3503/3503 [==============================] - 8s 2ms/step - loss: 1.0379 - acc: 0.0715 - val_loss: 2.3088 - val_acc: 0.0768\n",
            "Epoch 9/100\n",
            "3503/3503 [==============================] - 8s 2ms/step - loss: 0.9968 - acc: 0.0738 - val_loss: 2.2854 - val_acc: 0.0791\n",
            "Epoch 10/100\n",
            "3503/3503 [==============================] - 8s 2ms/step - loss: 0.9582 - acc: 0.0760 - val_loss: 2.2859 - val_acc: 0.0811\n",
            "Epoch 11/100\n",
            "3503/3503 [==============================] - 8s 2ms/step - loss: 0.9226 - acc: 0.0786 - val_loss: 2.2677 - val_acc: 0.0823\n",
            "Epoch 12/100\n",
            "3503/3503 [==============================] - 8s 2ms/step - loss: 0.8893 - acc: 0.0825 - val_loss: 2.2677 - val_acc: 0.0844\n",
            "Epoch 13/100\n",
            "3503/3503 [==============================] - 8s 2ms/step - loss: 0.8574 - acc: 0.0866 - val_loss: 2.2591 - val_acc: 0.0864\n",
            "Epoch 14/100\n",
            "3503/3503 [==============================] - 8s 2ms/step - loss: 0.8265 - acc: 0.0900 - val_loss: 2.2375 - val_acc: 0.0884\n",
            "Epoch 15/100\n",
            "3503/3503 [==============================] - 8s 2ms/step - loss: 0.7968 - acc: 0.0923 - val_loss: 2.2460 - val_acc: 0.0875\n",
            "Epoch 16/100\n",
            "3503/3503 [==============================] - 8s 2ms/step - loss: 0.7684 - acc: 0.0957 - val_loss: 2.2299 - val_acc: 0.0874\n",
            "Epoch 17/100\n",
            "3503/3503 [==============================] - 8s 2ms/step - loss: 0.7404 - acc: 0.0980 - val_loss: 2.2335 - val_acc: 0.0872\n",
            "Epoch 18/100\n",
            "3503/3503 [==============================] - 8s 2ms/step - loss: 0.7133 - acc: 0.1008 - val_loss: 2.2166 - val_acc: 0.0858\n",
            "Epoch 19/100\n",
            "3503/3503 [==============================] - 8s 2ms/step - loss: 0.6858 - acc: 0.1040 - val_loss: 2.2107 - val_acc: 0.0856\n",
            "Epoch 20/100\n",
            "3503/3503 [==============================] - 8s 2ms/step - loss: 0.6602 - acc: 0.1068 - val_loss: 2.2195 - val_acc: 0.0861\n",
            "Epoch 21/100\n",
            "3503/3503 [==============================] - 8s 2ms/step - loss: 0.6339 - acc: 0.1106 - val_loss: 2.2128 - val_acc: 0.0874\n",
            "Epoch 22/100\n",
            "3503/3503 [==============================] - 8s 2ms/step - loss: 0.6090 - acc: 0.1138 - val_loss: 2.2169 - val_acc: 0.0877\n",
            "Epoch 23/100\n",
            "3503/3503 [==============================] - 8s 2ms/step - loss: 0.5839 - acc: 0.1171 - val_loss: 2.2234 - val_acc: 0.0878\n",
            "Epoch 24/100\n",
            "3503/3503 [==============================] - 8s 2ms/step - loss: 0.5602 - acc: 0.1202 - val_loss: 2.2036 - val_acc: 0.0882\n",
            "Epoch 25/100\n",
            "3503/3503 [==============================] - 8s 2ms/step - loss: 0.5371 - acc: 0.1235 - val_loss: 2.2112 - val_acc: 0.0905\n",
            "Epoch 26/100\n",
            "3503/3503 [==============================] - 8s 2ms/step - loss: 0.5134 - acc: 0.1268 - val_loss: 2.2113 - val_acc: 0.0918\n",
            "Epoch 27/100\n",
            "3503/3503 [==============================] - 8s 2ms/step - loss: 0.4922 - acc: 0.1300 - val_loss: 2.2110 - val_acc: 0.0915\n",
            "Epoch 28/100\n",
            "3503/3503 [==============================] - 8s 2ms/step - loss: 0.4709 - acc: 0.1338 - val_loss: 2.2246 - val_acc: 0.0913\n",
            "Epoch 29/100\n",
            "3503/3503 [==============================] - 8s 2ms/step - loss: 0.4499 - acc: 0.1363 - val_loss: 2.2134 - val_acc: 0.0932\n",
            "Epoch 30/100\n",
            "3503/3503 [==============================] - 8s 2ms/step - loss: 0.4326 - acc: 0.1400 - val_loss: 2.2222 - val_acc: 0.0935\n",
            "Epoch 31/100\n",
            "3503/3503 [==============================] - 8s 2ms/step - loss: 0.4111 - acc: 0.1441 - val_loss: 2.2298 - val_acc: 0.0931\n",
            "Epoch 32/100\n",
            "3503/3503 [==============================] - 8s 2ms/step - loss: 0.3940 - acc: 0.1473 - val_loss: 2.2434 - val_acc: 0.0941\n",
            "Epoch 33/100\n",
            "3503/3503 [==============================] - 8s 2ms/step - loss: 0.3760 - acc: 0.1507 - val_loss: 2.2389 - val_acc: 0.0941\n",
            "Epoch 34/100\n",
            "3503/3503 [==============================] - 8s 2ms/step - loss: 0.3587 - acc: 0.1539 - val_loss: 2.2412 - val_acc: 0.0953\n",
            "Epoch 35/100\n",
            "3503/3503 [==============================] - 8s 2ms/step - loss: 0.3422 - acc: 0.1573 - val_loss: 2.2529 - val_acc: 0.0958\n",
            "Epoch 36/100\n",
            "3503/3503 [==============================] - 8s 2ms/step - loss: 0.3281 - acc: 0.1600 - val_loss: 2.2479 - val_acc: 0.0960\n",
            "Epoch 37/100\n",
            "3503/3503 [==============================] - 8s 2ms/step - loss: 0.3131 - acc: 0.1628 - val_loss: 2.2686 - val_acc: 0.0951\n",
            "Epoch 38/100\n",
            "3503/3503 [==============================] - 8s 2ms/step - loss: 0.2984 - acc: 0.1660 - val_loss: 2.2730 - val_acc: 0.0960\n",
            "Epoch 39/100\n",
            "3503/3503 [==============================] - 8s 2ms/step - loss: 0.2850 - acc: 0.1687 - val_loss: 2.2687 - val_acc: 0.0961\n",
            "Epoch 40/100\n",
            "3503/3503 [==============================] - 8s 2ms/step - loss: 0.2723 - acc: 0.1717 - val_loss: 2.2833 - val_acc: 0.0967\n",
            "Epoch 41/100\n",
            "3503/3503 [==============================] - 8s 2ms/step - loss: 0.2638 - acc: 0.1734 - val_loss: 2.2929 - val_acc: 0.0965\n",
            "Epoch 42/100\n",
            "3503/3503 [==============================] - 8s 2ms/step - loss: 0.2506 - acc: 0.1758 - val_loss: 2.2924 - val_acc: 0.0969\n",
            "Epoch 43/100\n",
            "3503/3503 [==============================] - 8s 2ms/step - loss: 0.2390 - acc: 0.1785 - val_loss: 2.3035 - val_acc: 0.0968\n",
            "Epoch 44/100\n",
            "3503/3503 [==============================] - 8s 2ms/step - loss: 0.2274 - acc: 0.1811 - val_loss: 2.3155 - val_acc: 0.0967\n",
            "Epoch 45/100\n",
            "3503/3503 [==============================] - 8s 2ms/step - loss: 0.2176 - acc: 0.1828 - val_loss: 2.3085 - val_acc: 0.0974\n",
            "Epoch 46/100\n",
            "3503/3503 [==============================] - 8s 2ms/step - loss: 0.2081 - acc: 0.1848 - val_loss: 2.3208 - val_acc: 0.0963\n",
            "Epoch 47/100\n",
            "3503/3503 [==============================] - 8s 2ms/step - loss: 0.2010 - acc: 0.1852 - val_loss: 2.3279 - val_acc: 0.0978\n",
            "Epoch 48/100\n",
            "3503/3503 [==============================] - 8s 2ms/step - loss: 0.1922 - acc: 0.1873 - val_loss: 2.3424 - val_acc: 0.0971\n",
            "Epoch 49/100\n",
            "3503/3503 [==============================] - 8s 2ms/step - loss: 0.1835 - acc: 0.1889 - val_loss: 2.3443 - val_acc: 0.0973\n",
            "Epoch 50/100\n",
            "3503/3503 [==============================] - 8s 2ms/step - loss: 0.1782 - acc: 0.1900 - val_loss: 2.3442 - val_acc: 0.0977\n",
            "Epoch 51/100\n",
            "3503/3503 [==============================] - 8s 2ms/step - loss: 0.1696 - acc: 0.1910 - val_loss: 2.3490 - val_acc: 0.0981\n",
            "Epoch 52/100\n",
            "3503/3503 [==============================] - 8s 2ms/step - loss: 0.1622 - acc: 0.1926 - val_loss: 2.3660 - val_acc: 0.0978\n",
            "Epoch 53/100\n",
            "3503/3503 [==============================] - 8s 2ms/step - loss: 0.1565 - acc: 0.1932 - val_loss: 2.3720 - val_acc: 0.0985\n",
            "Epoch 54/100\n",
            "3503/3503 [==============================] - 8s 2ms/step - loss: 0.1499 - acc: 0.1940 - val_loss: 2.3730 - val_acc: 0.0981\n",
            "Epoch 55/100\n",
            "3503/3503 [==============================] - 8s 2ms/step - loss: 0.1440 - acc: 0.1957 - val_loss: 2.3842 - val_acc: 0.0976\n",
            "Epoch 56/100\n",
            "3503/3503 [==============================] - 8s 2ms/step - loss: 0.1395 - acc: 0.1966 - val_loss: 2.3938 - val_acc: 0.0979\n",
            "Epoch 57/100\n",
            "3503/3503 [==============================] - 8s 2ms/step - loss: 0.1354 - acc: 0.1972 - val_loss: 2.3994 - val_acc: 0.0977\n",
            "Epoch 58/100\n",
            "3503/3503 [==============================] - 8s 2ms/step - loss: 0.1300 - acc: 0.1980 - val_loss: 2.4067 - val_acc: 0.0987\n",
            "Epoch 59/100\n",
            "3503/3503 [==============================] - 8s 2ms/step - loss: 0.1245 - acc: 0.1991 - val_loss: 2.4157 - val_acc: 0.0979\n",
            "Epoch 60/100\n",
            "3503/3503 [==============================] - 8s 2ms/step - loss: 0.1206 - acc: 0.1996 - val_loss: 2.4177 - val_acc: 0.0978\n",
            "Epoch 61/100\n",
            "3503/3503 [==============================] - 8s 2ms/step - loss: 0.1165 - acc: 0.2002 - val_loss: 2.4168 - val_acc: 0.0976\n",
            "Epoch 62/100\n",
            "3503/3503 [==============================] - 8s 2ms/step - loss: 0.1141 - acc: 0.2002 - val_loss: 2.4319 - val_acc: 0.0984\n",
            "Epoch 63/100\n",
            "3503/3503 [==============================] - 8s 2ms/step - loss: 0.1105 - acc: 0.2007 - val_loss: 2.4345 - val_acc: 0.0981\n",
            "Epoch 64/100\n",
            "3503/3503 [==============================] - 8s 2ms/step - loss: 0.1066 - acc: 0.2015 - val_loss: 2.4430 - val_acc: 0.0978\n",
            "Epoch 65/100\n",
            "3503/3503 [==============================] - 8s 2ms/step - loss: 0.1033 - acc: 0.2019 - val_loss: 2.4427 - val_acc: 0.0986\n",
            "Epoch 66/100\n",
            "3503/3503 [==============================] - 8s 2ms/step - loss: 0.0996 - acc: 0.2025 - val_loss: 2.4570 - val_acc: 0.0974\n",
            "Epoch 67/100\n",
            "3503/3503 [==============================] - 8s 2ms/step - loss: 0.0969 - acc: 0.2028 - val_loss: 2.4623 - val_acc: 0.0980\n",
            "Epoch 68/100\n",
            "3503/3503 [==============================] - 8s 2ms/step - loss: 0.0942 - acc: 0.2037 - val_loss: 2.4677 - val_acc: 0.0976\n",
            "Epoch 69/100\n",
            "3503/3503 [==============================] - 8s 2ms/step - loss: 0.0913 - acc: 0.2035 - val_loss: 2.4719 - val_acc: 0.0979\n",
            "Epoch 70/100\n",
            "3503/3503 [==============================] - 8s 2ms/step - loss: 0.0885 - acc: 0.2043 - val_loss: 2.4813 - val_acc: 0.0970\n",
            "Epoch 71/100\n",
            "3503/3503 [==============================] - 8s 2ms/step - loss: 0.0862 - acc: 0.2046 - val_loss: 2.4801 - val_acc: 0.0972\n",
            "Epoch 72/100\n",
            "3503/3503 [==============================] - 8s 2ms/step - loss: 0.0838 - acc: 0.2046 - val_loss: 2.4907 - val_acc: 0.0974\n",
            "Epoch 73/100\n",
            "3503/3503 [==============================] - 8s 2ms/step - loss: 0.0821 - acc: 0.2051 - val_loss: 2.5002 - val_acc: 0.0978\n",
            "Epoch 74/100\n",
            "3503/3503 [==============================] - 8s 2ms/step - loss: 0.0794 - acc: 0.2056 - val_loss: 2.4981 - val_acc: 0.0971\n",
            "Epoch 75/100\n",
            "3503/3503 [==============================] - 8s 2ms/step - loss: 0.0779 - acc: 0.2056 - val_loss: 2.5102 - val_acc: 0.0968\n",
            "Epoch 76/100\n",
            "3503/3503 [==============================] - 8s 2ms/step - loss: 0.0757 - acc: 0.2059 - val_loss: 2.5141 - val_acc: 0.0975\n",
            "Epoch 77/100\n",
            "3503/3503 [==============================] - 8s 2ms/step - loss: 0.0739 - acc: 0.2061 - val_loss: 2.5243 - val_acc: 0.0979\n",
            "Epoch 78/100\n",
            "3503/3503 [==============================] - 8s 2ms/step - loss: 0.0723 - acc: 0.2063 - val_loss: 2.5227 - val_acc: 0.0963\n",
            "Epoch 79/100\n",
            "3503/3503 [==============================] - 8s 2ms/step - loss: 0.0707 - acc: 0.2064 - val_loss: 2.5308 - val_acc: 0.0981\n",
            "Epoch 80/100\n",
            "3503/3503 [==============================] - 8s 2ms/step - loss: 0.0690 - acc: 0.2069 - val_loss: 2.5373 - val_acc: 0.0981\n",
            "Epoch 81/100\n",
            "3503/3503 [==============================] - 8s 2ms/step - loss: 0.0692 - acc: 0.2066 - val_loss: 2.5456 - val_acc: 0.0979\n",
            "Epoch 82/100\n",
            "3503/3503 [==============================] - 8s 2ms/step - loss: 0.0705 - acc: 0.2063 - val_loss: 2.5469 - val_acc: 0.0979\n",
            "Epoch 83/100\n",
            "3503/3503 [==============================] - 8s 2ms/step - loss: 0.0659 - acc: 0.2075 - val_loss: 2.5500 - val_acc: 0.0982\n",
            "Epoch 84/100\n",
            "3503/3503 [==============================] - 8s 2ms/step - loss: 0.0640 - acc: 0.2074 - val_loss: 2.5547 - val_acc: 0.0981\n",
            "Epoch 85/100\n",
            "3503/3503 [==============================] - 8s 2ms/step - loss: 0.0624 - acc: 0.2074 - val_loss: 2.5614 - val_acc: 0.0976\n",
            "Epoch 86/100\n",
            "3503/3503 [==============================] - 8s 2ms/step - loss: 0.0610 - acc: 0.2076 - val_loss: 2.5648 - val_acc: 0.0982\n",
            "Epoch 87/100\n",
            "3503/3503 [==============================] - 8s 2ms/step - loss: 0.0598 - acc: 0.2077 - val_loss: 2.5736 - val_acc: 0.0981\n",
            "Epoch 88/100\n",
            "3503/3503 [==============================] - 8s 2ms/step - loss: 0.0585 - acc: 0.2077 - val_loss: 2.5788 - val_acc: 0.0978\n",
            "Epoch 89/100\n",
            "3503/3503 [==============================] - 8s 2ms/step - loss: 0.0574 - acc: 0.2081 - val_loss: 2.5818 - val_acc: 0.0971\n",
            "Epoch 90/100\n",
            "3503/3503 [==============================] - 8s 2ms/step - loss: 0.0571 - acc: 0.2081 - val_loss: 2.5840 - val_acc: 0.0973\n",
            "Epoch 91/100\n",
            "3503/3503 [==============================] - 8s 2ms/step - loss: 0.0560 - acc: 0.2084 - val_loss: 2.5953 - val_acc: 0.0973\n",
            "Epoch 92/100\n",
            "3503/3503 [==============================] - 8s 2ms/step - loss: 0.0550 - acc: 0.2081 - val_loss: 2.5995 - val_acc: 0.0979\n",
            "Epoch 93/100\n",
            "3503/3503 [==============================] - 8s 2ms/step - loss: 0.0540 - acc: 0.2084 - val_loss: 2.6047 - val_acc: 0.0978\n",
            "Epoch 94/100\n",
            "3503/3503 [==============================] - 8s 2ms/step - loss: 0.0540 - acc: 0.2085 - val_loss: 2.6029 - val_acc: 0.0978\n",
            "Epoch 95/100\n",
            "3503/3503 [==============================] - 8s 2ms/step - loss: 0.0533 - acc: 0.2080 - val_loss: 2.6143 - val_acc: 0.0975\n",
            "Epoch 96/100\n",
            "3503/3503 [==============================] - 8s 2ms/step - loss: 0.0522 - acc: 0.2090 - val_loss: 2.6105 - val_acc: 0.0960\n",
            "Epoch 97/100\n",
            "3503/3503 [==============================] - 8s 2ms/step - loss: 0.0515 - acc: 0.2086 - val_loss: 2.6241 - val_acc: 0.0970\n",
            "Epoch 98/100\n",
            "3503/3503 [==============================] - 8s 2ms/step - loss: 0.0511 - acc: 0.2089 - val_loss: 2.6223 - val_acc: 0.0969\n",
            "Epoch 99/100\n",
            "3503/3503 [==============================] - 8s 2ms/step - loss: 0.0510 - acc: 0.2087 - val_loss: 2.6333 - val_acc: 0.0979\n",
            "Epoch 100/100\n",
            "3503/3503 [==============================] - 8s 2ms/step - loss: 0.0494 - acc: 0.2087 - val_loss: 2.6332 - val_acc: 0.0986\n"
          ],
          "name": "stdout"
        }
      ]
    },
    {
      "metadata": {
        "id": "tYgGFsL4oqCh",
        "colab_type": "code",
        "colab": {
          "base_uri": "https://localhost:8080/",
          "height": 34
        },
        "outputId": "ad3b5bea-568b-4faa-c96c-63f80778a13b"
      },
      "cell_type": "code",
      "source": [
        "history_dict = history.history\n",
        "history_dict.keys()\n"
      ],
      "execution_count": 47,
      "outputs": [
        {
          "output_type": "execute_result",
          "data": {
            "text/plain": [
              "dict_keys(['val_loss', 'val_acc', 'loss', 'acc'])"
            ]
          },
          "metadata": {
            "tags": []
          },
          "execution_count": 47
        }
      ]
    },
    {
      "metadata": {
        "id": "SpQ6YQWOAuCg",
        "colab_type": "code",
        "colab": {}
      },
      "cell_type": "code",
      "source": [
        "import matplotlib.pyplot as plt\n",
        "loss_values = history_dict['loss']\n",
        "val_loss_values = history_dict['val_loss']\n",
        "acc_values = history_dict['acc']\n",
        "val_acc_values = history_dict['val_acc']\n",
        "epochs = range(1,101)"
      ],
      "execution_count": 0,
      "outputs": []
    },
    {
      "metadata": {
        "id": "GRe38S_9Axm_",
        "colab_type": "code",
        "colab": {
          "base_uri": "https://localhost:8080/",
          "height": 376
        },
        "outputId": "989b5dc5-b556-4c4c-bc9d-fe00ce9f81bb"
      },
      "cell_type": "code",
      "source": [
        "plt.plot(epochs,loss_values,'bo', label=\"Training Loss\")\n",
        "plt.plot(epochs,val_loss_values,'b',label=\"Validation Loss\")\n",
        "plt.title('Training and Validation Loss')\n",
        "plt.xlabel('Epochs')\n",
        "plt.ylabel('Loss')\n",
        "plt.legend()\n",
        "plt.show()"
      ],
      "execution_count": 49,
      "outputs": [
        {
          "output_type": "display_data",
          "data": {
            "image/png": "[encoded data removed]",
            "text/plain": [
              "<matplotlib.figure.Figure at 0x7ff99daf3860>"
            ]
          },
          "metadata": {
            "tags": []
          }
        }
      ]
    },
    {
      "metadata": {
        "id": "tUue5fRqsQub",
        "colab_type": "code",
        "colab": {
          "base_uri": "https://localhost:8080/",
          "height": 376
        },
        "outputId": "0664c55d-4245-441f-da81-f0613b4975c1"
      },
      "cell_type": "code",
      "source": [
        "plt.plot(epochs,acc_values,'bo', label=\"Training Acc\")\n",
        "plt.plot(epochs,val_acc_values,'b',label=\"Validation Acc\")\n",
        "plt.title('Training and Validation Acc')\n",
        "plt.xlabel('Epochs')\n",
        "plt.ylabel('Loss')\n",
        "plt.legend()\n",
        "plt.show()"
      ],
      "execution_count": 50,
      "outputs": [
        {
          "output_type": "display_data",
          "data": {
            "image/png": "[encoded data removed]",
            "text/plain": [
              "<matplotlib.figure.Figure at 0x7ff99dac5390>"
            ]
          },
          "metadata": {
            "tags": []
          }
        }
      ]
    },
    {
      "metadata": {
        "id": "EhHoMuW1BJHb",
        "colab_type": "code",
        "colab": {
          "base_uri": "https://localhost:8080/",
          "height": 71
        },
        "outputId": "1950cdc7-9fa9-4464-e8e6-b451a2e4063f"
      },
      "cell_type": "code",
      "source": [
        "# Save model\n",
        "model.save('drive/ml_apps/s2s_bengali.h5')"
      ],
      "execution_count": 57,
      "outputs": [
        {
          "output_type": "stream",
          "text": [
            "/usr/local/lib/python3.6/dist-packages/keras/engine/topology.py:2379: UserWarning: Layer lstm_2 was passed non-serializable keyword arguments: {'initial_state': [<tf.Tensor 'lstm_1/while/Exit_2:0' shape=(?, 100) dtype=float32>, <tf.Tensor 'lstm_1/while/Exit_3:0' shape=(?, 100) dtype=float32>]}. They will not be included in the serialized model (and thus will be missing at deserialization time).\n",
            "  str(node.arguments) + '. They will not be included '\n"
          ],
          "name": "stderr"
        }
      ]
    },
    {
      "metadata": {
        "id": "igGoQUkwW6e3",
        "colab_type": "code",
        "colab": {}
      },
      "cell_type": "code",
      "source": [
        ""
      ],
      "execution_count": 0,
      "outputs": []
    },
    {
      "metadata": {
        "id": "vbGYHsC2BaOH",
        "colab_type": "code",
        "colab": {
          "base_uri": "https://localhost:8080/",
          "height": 34
        },
        "outputId": "6227da70-00b8-4c9a-a1b0-863b728039c5"
      },
      "cell_type": "code",
      "source": [
        "model.layers[4].input_shape"
      ],
      "execution_count": 59,
      "outputs": [
        {
          "output_type": "execute_result",
          "data": {
            "text/plain": [
              "(None, None, 100)"
            ]
          },
          "metadata": {
            "tags": []
          },
          "execution_count": 59
        }
      ]
    },
    {
      "metadata": {
        "id": "wCY9BpJmBbM5",
        "colab_type": "code",
        "colab": {
          "base_uri": "https://localhost:8080/",
          "height": 374
        },
        "outputId": "7f0ccce0-3d35-4c51-c3a2-d93aa9e4b783"
      },
      "cell_type": "code",
      "source": [
        "# Next: inference mode (sampling).\n",
        "# Here's the drill:\n",
        "# 1) encode input and retrieve initial decoder state\n",
        "# 2) run one step of decoder with this initial state\n",
        "# and a \"start of sequence\" token as target.\n",
        "# Output will be the next target token\n",
        "# 3) Repeat with the current target token and current states\n",
        "\n",
        "# Define sampling models\n",
        "encoder_model = Model(encoder_inputs, encoder_states)\n",
        "\n",
        "decoder_state_input_h = Input(shape=(latent_dim,))\n",
        "decoder_state_input_c = Input(shape=(latent_dim,))\n",
        "decoder_states_inputs = [decoder_state_input_h, decoder_state_input_c]\n",
        "dex_out = decoder_embedding(decoder_inputs)\n",
        "\n",
        "decoder_outputs, dstate_h, dstate_c = decoder_lstm(dex_out, initial_state=decoder_states_inputs)\n",
        "decoder_states = [dstate_h, dstate_c]\n",
        "decoder_dense_outputs = decoder_dense(decoder_outputs)\n",
        "decoder_model = Model(\n",
        "    [decoder_inputs] + decoder_states_inputs,\n",
        "    [decoder_dense_outputs] + decoder_states)\n",
        "decoder_model.summary()"
      ],
      "execution_count": 60,
      "outputs": [
        {
          "output_type": "stream",
          "text": [
            "__________________________________________________________________________________________________\n",
            "Layer (type)                    Output Shape         Param #     Connected to                     \n",
            "==================================================================================================\n",
            "input_3 (InputLayer)            (None, None)         0                                            \n",
            "__________________________________________________________________________________________________\n",
            "embedding_3 (Embedding)         (None, None, 100)    334500      input_3[0][0]                    \n",
            "__________________________________________________________________________________________________\n",
            "input_4 (InputLayer)            (None, 100)          0                                            \n",
            "__________________________________________________________________________________________________\n",
            "input_5 (InputLayer)            (None, 100)          0                                            \n",
            "__________________________________________________________________________________________________\n",
            "lstm_2 (LSTM)                   [(None, None, 100),  80400       embedding_3[1][0]                \n",
            "                                                                 input_4[0][0]                    \n",
            "                                                                 input_5[0][0]                    \n",
            "__________________________________________________________________________________________________\n",
            "dense_1 (Dense)                 (None, None, 3345)   337845      lstm_2[1][0]                     \n",
            "==================================================================================================\n",
            "Total params: 752,745\n",
            "Trainable params: 752,745\n",
            "Non-trainable params: 0\n",
            "__________________________________________________________________________________________________\n"
          ],
          "name": "stdout"
        }
      ]
    },
    {
      "metadata": {
        "id": "Hvz_mndDugxF",
        "colab_type": "code",
        "colab": {
          "base_uri": "https://localhost:8080/",
          "height": 238
        },
        "outputId": "cd29ec65-f9a3-439f-f5f7-8e44e593d6be"
      },
      "cell_type": "code",
      "source": [
        "encoder_model.summary()"
      ],
      "execution_count": 61,
      "outputs": [
        {
          "output_type": "stream",
          "text": [
            "_________________________________________________________________\n",
            "Layer (type)                 Output Shape              Param #   \n",
            "=================================================================\n",
            "input_2 (InputLayer)         (None, None)              0         \n",
            "_________________________________________________________________\n",
            "embedding_2 (Embedding)      (None, None, 100)         1000000   \n",
            "_________________________________________________________________\n",
            "lstm_1 (LSTM)                [(None, 100), (None, 100) 80400     \n",
            "=================================================================\n",
            "Total params: 1,080,400\n",
            "Trainable params: 80,400\n",
            "Non-trainable params: 1,000,000\n",
            "_________________________________________________________________\n"
          ],
          "name": "stdout"
        }
      ]
    },
    {
      "metadata": {
        "id": "fdblbNJwDFiA",
        "colab_type": "code",
        "colab": {}
      },
      "cell_type": "code",
      "source": [
        "# Reverse-lookup token index to decode sequences back to\n",
        "# something readable.\n",
        "reverse_input_word_index = dict(\n",
        "    (i, word) for word, i in input_token_index.items())\n",
        "reverse_target_word_index = dict(\n",
        "    (i, word) for word, i in target_token_index.items())"
      ],
      "execution_count": 0,
      "outputs": []
    },
    {
      "metadata": {
        "id": "cqSaZG7n3T3m",
        "colab_type": "code",
        "colab": {}
      },
      "cell_type": "code",
      "source": [
        "import os"
      ],
      "execution_count": 0,
      "outputs": []
    },
    {
      "metadata": {
        "id": "MwUwgE0vDNDf",
        "colab_type": "code",
        "colab": {}
      },
      "cell_type": "code",
      "source": [
        "def decode_sequence(input_seq):\n",
        "    # Encode the input as state vectors.\n",
        "    \n",
        "    states_value = encoder_model.predict(input_seq)\n",
        "    \n",
        "\n",
        "    # Generate empty target sequence of length 1.\n",
        "    \n",
        "    target_seq = np.zeros((1,1))\n",
        "    \n",
        "    # Populate the first character of target sequence with the start character.\n",
        "    \n",
        "    target_seq[0, 0] = target_token_index['start_']\n",
        "\n",
        "    # Sampling loop for a batch of sequences\n",
        "    # (to simplify, here we assume a batch of size 1).\n",
        "    stop_condition = False\n",
        "    decoded_sentence = ''\n",
        "    token_index = []\n",
        "    #t = 1\n",
        "    while not stop_condition:\n",
        "    #for t in range(0,max_decoder_seq_length):\n",
        "        \n",
        "        output_tokens,h,c = decoder_model.predict(\n",
        "             [target_seq] + states_value)\n",
        "        \n",
        "        # Sample a token\n",
        "        \n",
        "        sampled_token_index = np.argmax(output_tokens[0, -1, :])\n",
        "        sampled_word = reverse_target_word_index[sampled_token_index]\n",
        "\n",
        "        if (sampled_word != '_eos'):\n",
        "          decoded_sentence += sampled_word + ' '\n",
        "          token_index.append(sampled_token_index)\n",
        "\n",
        "        # Exit condition: either hit max length\n",
        "        # or find stop character.\n",
        "        if (sampled_word == '_eos' or\n",
        "           len(decoded_sentence) > max_decoder_seq_length):\n",
        "            stop_condition = True\n",
        "\n",
        "        \n",
        "        target_seq = np.zeros((1,1))\n",
        "        target_seq[0, 0] = sampled_token_index\n",
        "\n",
        "\n",
        "        # Update states\n",
        "        states_value = [h, c]\n",
        "        \n",
        "    return decoded_sentence"
      ],
      "execution_count": 0,
      "outputs": []
    },
    {
      "metadata": {
        "id": "CyInAR6nDYDu",
        "colab_type": "code",
        "colab": {
          "base_uri": "https://localhost:8080/",
          "height": 1037
        },
        "outputId": "650fd64a-7d39-4e10-e416-9c32a6982338"
      },
      "cell_type": "code",
      "source": [
        "for seq_index in range(230,250):\n",
        "    # Take one sequence (part of the training set)\n",
        "    # for trying out decoding.\n",
        "    input_seq = encoder_input_data[seq_index: seq_index+1]\n",
        "    \n",
        "    decoded_sentence = decode_sequence(input_seq)\n",
        "    print('-')\n",
        "    print('Input sentence:', input_texts[seq_index])\n",
        "    print('Decoded sentence:', decoded_sentence)"
      ],
      "execution_count": 74,
      "outputs": [
        {
          "output_type": "stream",
          "text": [
            "-\n",
            "Input sentence: They won.\n",
            "Decoded sentence: ওরা জিতলো। \n",
            "-\n",
            "Input sentence: They won.\n",
            "Decoded sentence: ওরা জিতলো। \n",
            "-\n",
            "Input sentence: Tom came.\n",
            "Decoded sentence: টম এসেছিলো। \n",
            "-\n",
            "Input sentence: Tom came.\n",
            "Decoded sentence: টম এসেছিলো। \n",
            "-\n",
            "Input sentence: Tom died.\n",
            "Decoded sentence: টম মারা গেছে। \n",
            "-\n",
            "Input sentence: Tom died.\n",
            "Decoded sentence: টম মারা গেছে। \n",
            "-\n",
            "Input sentence: Tom knew.\n",
            "Decoded sentence: টম জানতো। \n",
            "-\n",
            "Input sentence: Tom lied.\n",
            "Decoded sentence: টম মিথ্যা কথা বললো। \n",
            "-\n",
            "Input sentence: Tom lies.\n",
            "Decoded sentence: টম মিথ্যে বলে। \n",
            "-\n",
            "Input sentence: Tom lost.\n",
            "Decoded sentence: টম হেরে গেলো। \n",
            "-\n",
            "Input sentence: Trust me.\n",
            "Decoded sentence: আমাকে বিশ্বাস করুন। \n",
            "-\n",
            "Input sentence: Trust me.\n",
            "Decoded sentence: আমাকে বিশ্বাস করুন। \n",
            "-\n",
            "Input sentence: Trust me.\n",
            "Decoded sentence: আমাকে বিশ্বাস করুন। \n",
            "-\n",
            "Input sentence: Try hard.\n",
            "Decoded sentence: আরও চেষ্টা করুন। \n",
            "-\n",
            "Input sentence: Try hard.\n",
            "Decoded sentence: আরও চেষ্টা করুন। \n",
            "-\n",
            "Input sentence: Try hard.\n",
            "Decoded sentence: আরও চেষ্টা করুন। \n",
            "-\n",
            "Input sentence: Use this.\n",
            "Decoded sentence: এটা ব্যবহার করুন। \n",
            "-\n",
            "Input sentence: Use this.\n",
            "Decoded sentence: এটা ব্যবহার করুন। \n",
            "-\n",
            "Input sentence: Use this.\n",
            "Decoded sentence: এটা ব্যবহার করুন। \n",
            "-\n",
            "Input sentence: We agree.\n",
            "Decoded sentence: আমরা একমত। \n"
          ],
          "name": "stdout"
        }
      ]
    },
    {
      "metadata": {
        "id": "rMAhCG5dO8-6",
        "colab_type": "code",
        "colab": {}
      },
      "cell_type": "code",
      "source": [
        "def prepare_text(input_text):\n",
        "  tokens_in=[]\n",
        "  input_data = np.zeros(\n",
        "    (1,max_encoder_seq_length),\n",
        "    dtype='float32')\n",
        "  tokens_in = nltk.word_tokenize(input_text.lower())\n",
        "  for i in range(len(tokens_in)):\n",
        "    print(tokens_in[i])\n",
        "    if tokens_in[i] in input_words:\n",
        "     \n",
        "      input_data[0,i] = input_token_index[tokens_in[i]]\n",
        "    else:\n",
        "      input_data[0,i] = input_token_index['.']\n",
        "  input_data = np.fliplr(input_data)\n",
        "  return input_data"
      ],
      "execution_count": 0,
      "outputs": []
    },
    {
      "metadata": {
        "id": "VDmvIs8qiVY-",
        "colab_type": "code",
        "colab": {
          "base_uri": "https://localhost:8080/",
          "height": 34
        },
        "outputId": "58cc3657-409f-4f2b-d504-c73a60e0f6c2"
      },
      "cell_type": "code",
      "source": [
        "input_token_index['dinner']"
      ],
      "execution_count": 76,
      "outputs": [
        {
          "output_type": "execute_result",
          "data": {
            "text/plain": [
              "455"
            ]
          },
          "metadata": {
            "tags": []
          },
          "execution_count": 76
        }
      ]
    },
    {
      "metadata": {
        "id": "Tn0sfsLADhVs",
        "colab_type": "code",
        "colab": {
          "base_uri": "https://localhost:8080/",
          "height": 136
        },
        "outputId": "6b62fa42-1cc6-420d-eac8-d910e5bec7c5"
      },
      "cell_type": "code",
      "source": [
        "data = prepare_text(\"What do you want?\")\n",
        "print(data[0,], data.shape)"
      ],
      "execution_count": 91,
      "outputs": [
        {
          "output_type": "stream",
          "text": [
            "what\n",
            "do\n",
            "you\n",
            "want\n",
            "?\n",
            "[   0.    0.    0.    0.    0.    0.    0.    0.    0.    0.    0.    0.\n",
            "    0.    0.    0.    0.    0.   30. 1746. 1838.  467. 1775.] (1, 22)\n"
          ],
          "name": "stdout"
        }
      ]
    },
    {
      "metadata": {
        "id": "aH7s-kuajZds",
        "colab_type": "code",
        "colab": {
          "base_uri": "https://localhost:8080/",
          "height": 51
        },
        "outputId": "5f4063f8-4ef9-4a60-de28-537fa7fb66d7"
      },
      "cell_type": "code",
      "source": [
        "new_sentence = decode_sequence(data)\n",
        "print('-')\n",
        "#print('Input sentence:', )\n",
        "print('Decoded sentence:', new_sentence)"
      ],
      "execution_count": 92,
      "outputs": [
        {
          "output_type": "stream",
          "text": [
            "-\n",
            "Decoded sentence: তুমি কী চাও ? \n"
          ],
          "name": "stdout"
        }
      ]
    },
    {
      "metadata": {
        "id": "ti3WUJ82xYyt",
        "colab_type": "code",
        "colab": {}
      },
      "cell_type": "code",
      "source": [
        ""
      ],
      "execution_count": 0,
      "outputs": []
    }
  ]
}